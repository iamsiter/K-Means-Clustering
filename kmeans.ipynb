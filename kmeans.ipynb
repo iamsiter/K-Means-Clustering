{
 "cells": [
  {
   "cell_type": "code",
   "execution_count": 1,
   "metadata": {
    "scrolled": true
   },
   "outputs": [
    {
     "name": "stdout",
     "output_type": "stream",
     "text": [
      "The Cluster Centroids are\n",
      "[[ 2.88349711  1.35826195]\n",
      " [-1.03940862 -0.6791968 ]\n",
      " [ 5.43312387  4.86267503]]\n"
     ]
    }
   ],
   "source": [
    "%matplotlib notebook\n",
    "import numpy as np\n",
    "import pandas as pd\n",
    "from matplotlib import pyplot as plt\n",
    "def calError(clusterCentroids,clusterCentroids_Old):\n",
    "    dist=0.0\n",
    "    for a,b in zip(clusterCentroids,clusterCentroids_Old):\n",
    "        dist =dist+np.linalg.norm(a-b)\n",
    "    return dist\n",
    "\n",
    "    \n",
    "def calDist(point,clusterCentroids):\n",
    "    return (np.linalg.norm(point - clusterCentroids, axis=1))\n",
    "   \n",
    "df=pd.read_csv('clusters.txt',header=None)\n",
    "clusterCentroids=df.sample(3);\n",
    "clusterCentroids=clusterCentroids.values\n",
    "clusterCentroids_Old=clusterCentroids.copy()\n",
    "clusters={}\n",
    "clusters[\"0\"]=[]\n",
    "clusters[\"1\"]=[]\n",
    "clusters[\"2\"]=[]\n",
    "\n",
    "df=df.values\n",
    "error=100.0\n",
    "while(error!=0):\n",
    "    clusters[\"0\"]=[]\n",
    "    clusters[\"1\"]=[]\n",
    "    clusters[\"2\"]=[]\n",
    "    for val in df:\n",
    "        distance=calDist(val,clusterCentroids)\n",
    "        index=np.argmin(distance)\n",
    "        clusters[str(index)].append(val);#creating list of numpy arrays,each numpy array is one coordinate\n",
    "    clusterCentroids_Old=clusterCentroids.copy()\n",
    "    for key,val in clusters.items():\n",
    "    \n",
    "        meanNumpyarr= np.vstack(val) #comibining np array to create one np array,to calculate mean\n",
    "        clusterCentroids[int(key)]=np.mean(meanNumpyarr,axis=0)\n",
    "       \n",
    "        \n",
    "\n",
    "    error=calError(clusterCentroids,clusterCentroids_Old)\n",
    "print(\"The Cluster Centroids are\")\n",
    "print(clusterCentroids)\n",
    "\n",
    "    \n",
    "\n",
    "\n"
   ]
  },
  {
   "cell_type": "code",
   "execution_count": null,
   "metadata": {
    "collapsed": true
   },
   "outputs": [],
   "source": []
  },
  {
   "cell_type": "code",
   "execution_count": null,
   "metadata": {
    "collapsed": true
   },
   "outputs": [],
   "source": []
  },
  {
   "cell_type": "code",
   "execution_count": null,
   "metadata": {},
   "outputs": [],
   "source": []
  },
  {
   "cell_type": "code",
   "execution_count": null,
   "metadata": {
    "collapsed": true
   },
   "outputs": [],
   "source": []
  },
  {
   "cell_type": "code",
   "execution_count": null,
   "metadata": {
    "collapsed": true
   },
   "outputs": [],
   "source": []
  },
  {
   "cell_type": "code",
   "execution_count": null,
   "metadata": {
    "collapsed": true
   },
   "outputs": [],
   "source": []
  }
 ],
 "metadata": {
  "kernelspec": {
   "display_name": "Python 3",
   "language": "python",
   "name": "python3"
  },
  "language_info": {
   "codemirror_mode": {
    "name": "ipython",
    "version": 3
   },
   "file_extension": ".py",
   "mimetype": "text/x-python",
   "name": "python",
   "nbconvert_exporter": "python",
   "pygments_lexer": "ipython3",
   "version": "3.6.3"
  }
 },
 "nbformat": 4,
 "nbformat_minor": 2
}
